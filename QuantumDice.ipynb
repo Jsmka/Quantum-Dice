{
 "cells": [
  {
   "cell_type": "code",
   "execution_count": 1,
   "id": "024aad63",
   "metadata": {},
   "outputs": [],
   "source": [
    "from qiskit import BasicAer, QuantumCircuit, execute"
   ]
  },
  {
   "cell_type": "code",
   "execution_count": 2,
   "id": "8dc979be",
   "metadata": {},
   "outputs": [],
   "source": [
    "qd=QuantumCircuit(3,3)\n",
    "init_st=[1/2**.5,1/2**.5]\n",
    "for i in range(3):\n",
    "    qd.initialize(init_st,i)\n",
    "    qd.measure(i,i)"
   ]
  },
  {
   "cell_type": "code",
   "execution_count": 3,
   "id": "9594a4e0",
   "metadata": {},
   "outputs": [],
   "source": [
    "qc=BasicAer.get_backend(\"statevector_simulator\")"
   ]
  },
  {
   "cell_type": "code",
   "execution_count": 4,
   "id": "1538ab83",
   "metadata": {},
   "outputs": [],
   "source": [
    "def roll_dice():\n",
    "    r=tuple(execute(qd,qc).result().get_counts())[0][::-1]\n",
    "    val=0\n",
    "    for i in range(3):\n",
    "        val+=int(r[i])*2**i\n",
    "    if val not in (1,2,3,4,5,6):\n",
    "        val=roll_dice()\n",
    "    return val"
   ]
  },
  {
   "cell_type": "code",
   "execution_count": 7,
   "id": "8781d693",
   "metadata": {},
   "outputs": [
    {
     "name": "stdout",
     "output_type": "stream",
     "text": [
      "Press enter to roll Quantum-Dice : \n",
      "1\n",
      "Press enter to roll Quantum-Dice : \n",
      "5\n",
      "Press enter to roll Quantum-Dice : \n",
      "6\n",
      "Press enter to roll Quantum-Dice : \n",
      "2\n",
      "Press enter to roll Quantum-Dice : \n",
      "6\n",
      "Press enter to roll Quantum-Dice : \n",
      "1\n",
      "Press enter to roll Quantum-Dice : exit\n",
      "----------------------------------------------\n",
      "Thanks for using Quantum Dice. Have a nice day.\n"
     ]
    }
   ],
   "source": [
    "while True:\n",
    "    key = input(\"Press enter to roll Quantum-Dice : \")\n",
    "    if(key == 'exit'):\n",
    "        print('----------------------------------------------')\n",
    "        print('Thanks for using Quantum Dice. Have a nice day.')\n",
    "        break\n",
    "    else:\n",
    "        print(roll_dice())"
   ]
  }
 ],
 "metadata": {
  "kernelspec": {
   "display_name": "Python 3 (ipykernel)",
   "language": "python",
   "name": "python3"
  },
  "language_info": {
   "codemirror_mode": {
    "name": "ipython",
    "version": 3
   },
   "file_extension": ".py",
   "mimetype": "text/x-python",
   "name": "python",
   "nbconvert_exporter": "python",
   "pygments_lexer": "ipython3",
   "version": "3.8.13"
  }
 },
 "nbformat": 4,
 "nbformat_minor": 5
}
